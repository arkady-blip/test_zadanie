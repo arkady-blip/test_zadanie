{
 "cells": [
  {
   "cell_type": "markdown",
   "metadata": {
    "pycharm": {
     "name": "#%% md\n"
    }
   },
   "source": [
    "# Описание задания\n",
    "### Задание\n",
    "Улучшите рекомендательную систему с помощью информации о поле клиентов\n",
    "### Датасет\n",
    "- `purchases_train.csv` - история покупок в розничном магазине с 21 октября 2003 года по 12 марта 2004 года.\n",
    "- `purchases_test.csv` - покупки за следующую неделю, с 13 по 19 марта 2004 года. В этой выборке для каждого пользователя исключены товары, которые он уже покупал за период обучающей выборки. Так сделано, чтобы измерить, насколько модель хорошо предсказывает будущие покупки.\n",
    "- `customers.csv` - пол клиентов (`Male` / `Female`), есть пропуски\n",
    "### Бейзлайн решение\n",
    "- на истории покупок обучается модель матричного разложения `implicit.AlternateLeastSquares`\n",
    "- рекомендации сравниваются с покупками за следующую неделю по метрике `map@10`"
   ]
  },
  {
   "cell_type": "markdown",
   "metadata": {
    "pycharm": {
     "name": "#%% md\n"
    }
   },
   "source": [
    "# Выгрузка данных, бейзлайн решение, метрика качества"
   ]
  },
  {
   "cell_type": "code",
   "execution_count": 1,
   "metadata": {
    "pycharm": {
     "is_executing": false
    }
   },
   "outputs": [],
   "source": [
    "# you need implicit & ml_metrics packages to run this notebook\n",
    "# pip3 install implicit ml_metrics\n",
    "\n",
    "\n",
    "from pathlib import Path\n",
    "\n",
    "import numpy as np\n",
    "from IPython.core.display import display\n",
    "from ml_metrics import mapk\n",
    "import scipy\n",
    "import pandas as pd\n",
    "import implicit\n",
    "\n",
    "from src.load import DataProvider\n",
    "from src.baseline_model import get_baseline_model\n",
    "from src.utils import transform_to_item_user_csr_matrix, get_recommendations, get_purchases_by_customer\n",
    "import inspect"
   ]
  },
  {
   "cell_type": "code",
   "execution_count": 2,
   "metadata": {
    "pycharm": {
     "is_executing": false
    }
   },
   "outputs": [
    {
     "data": {
      "text/html": [
       "<div>\n",
       "<style scoped>\n",
       "    .dataframe tbody tr th:only-of-type {\n",
       "        vertical-align: middle;\n",
       "    }\n",
       "\n",
       "    .dataframe tbody tr th {\n",
       "        vertical-align: top;\n",
       "    }\n",
       "\n",
       "    .dataframe thead th {\n",
       "        text-align: right;\n",
       "    }\n",
       "</style>\n",
       "<table border=\"1\" class=\"dataframe\">\n",
       "  <thead>\n",
       "    <tr style=\"text-align: right;\">\n",
       "      <th></th>\n",
       "      <th>customer_id</th>\n",
       "      <th>product_id</th>\n",
       "      <th>datetime</th>\n",
       "    </tr>\n",
       "  </thead>\n",
       "  <tbody>\n",
       "    <tr>\n",
       "      <td>0</td>\n",
       "      <td>8698595</td>\n",
       "      <td>12530</td>\n",
       "      <td>2004-03-10 22:18:43.497459200</td>\n",
       "    </tr>\n",
       "    <tr>\n",
       "      <td>1</td>\n",
       "      <td>13271885</td>\n",
       "      <td>7541</td>\n",
       "      <td>2004-03-06 02:24:43.209763200</td>\n",
       "    </tr>\n",
       "    <tr>\n",
       "      <td>2</td>\n",
       "      <td>16852746</td>\n",
       "      <td>13134</td>\n",
       "      <td>2004-03-10 01:03:09.598614400</td>\n",
       "    </tr>\n",
       "    <tr>\n",
       "      <td>3</td>\n",
       "      <td>16852746</td>\n",
       "      <td>6572</td>\n",
       "      <td>2004-03-04 16:45:16.522566400</td>\n",
       "    </tr>\n",
       "    <tr>\n",
       "      <td>4</td>\n",
       "      <td>14619070</td>\n",
       "      <td>4659</td>\n",
       "      <td>2004-03-12 13:29:35.011481600</td>\n",
       "    </tr>\n",
       "  </tbody>\n",
       "</table>\n",
       "</div>"
      ],
      "text/plain": [
       "   customer_id  product_id                       datetime\n",
       "0      8698595       12530  2004-03-10 22:18:43.497459200\n",
       "1     13271885        7541  2004-03-06 02:24:43.209763200\n",
       "2     16852746       13134  2004-03-10 01:03:09.598614400\n",
       "3     16852746        6572  2004-03-04 16:45:16.522566400\n",
       "4     14619070        4659  2004-03-12 13:29:35.011481600"
      ]
     },
     "metadata": {},
     "output_type": "display_data"
    },
    {
     "data": {
      "text/html": [
       "<div>\n",
       "<style scoped>\n",
       "    .dataframe tbody tr th:only-of-type {\n",
       "        vertical-align: middle;\n",
       "    }\n",
       "\n",
       "    .dataframe tbody tr th {\n",
       "        vertical-align: top;\n",
       "    }\n",
       "\n",
       "    .dataframe thead th {\n",
       "        text-align: right;\n",
       "    }\n",
       "</style>\n",
       "<table border=\"1\" class=\"dataframe\">\n",
       "  <thead>\n",
       "    <tr style=\"text-align: right;\">\n",
       "      <th></th>\n",
       "      <th>customer_id</th>\n",
       "      <th>product_id</th>\n",
       "      <th>datetime</th>\n",
       "    </tr>\n",
       "  </thead>\n",
       "  <tbody>\n",
       "    <tr>\n",
       "      <td>0</td>\n",
       "      <td>1021292</td>\n",
       "      <td>6197</td>\n",
       "      <td>2004-03-18 13:35:19.145152000</td>\n",
       "    </tr>\n",
       "    <tr>\n",
       "      <td>1</td>\n",
       "      <td>11379978</td>\n",
       "      <td>4659</td>\n",
       "      <td>2004-03-19 18:51:31.887936000</td>\n",
       "    </tr>\n",
       "    <tr>\n",
       "      <td>2</td>\n",
       "      <td>13271885</td>\n",
       "      <td>5659</td>\n",
       "      <td>2004-03-14 05:47:21.544166400</td>\n",
       "    </tr>\n",
       "    <tr>\n",
       "      <td>3</td>\n",
       "      <td>13271885</td>\n",
       "      <td>1015</td>\n",
       "      <td>2004-03-15 14:41:19.702089601</td>\n",
       "    </tr>\n",
       "    <tr>\n",
       "      <td>4</td>\n",
       "      <td>12315337</td>\n",
       "      <td>12072</td>\n",
       "      <td>2004-03-19 10:39:17.148105600</td>\n",
       "    </tr>\n",
       "  </tbody>\n",
       "</table>\n",
       "</div>"
      ],
      "text/plain": [
       "   customer_id  product_id                       datetime\n",
       "0      1021292        6197  2004-03-18 13:35:19.145152000\n",
       "1     11379978        4659  2004-03-19 18:51:31.887936000\n",
       "2     13271885        5659  2004-03-14 05:47:21.544166400\n",
       "3     13271885        1015  2004-03-15 14:41:19.702089601\n",
       "4     12315337       12072  2004-03-19 10:39:17.148105600"
      ]
     },
     "metadata": {},
     "output_type": "display_data"
    }
   ],
   "source": [
    "data_provider = DataProvider(data_directory=Path('./data'))\n",
    "purchases_train = data_provider.get_purchases_train()\n",
    "purchases_test = data_provider.get_purchases_test()\n",
    "display(\n",
    "    purchases_train.head(),\n",
    "    purchases_test.head(),\n",
    ")"
   ]
  },
  {
   "cell_type": "markdown",
   "metadata": {},
   "source": [
    "Бейзлайн решение основано на библитеке матричного разложения `implicit`."
   ]
  },
  {
   "cell_type": "code",
   "execution_count": 3,
   "metadata": {
    "pycharm": {
     "is_executing": false,
     "name": "#%%\n"
    }
   },
   "outputs": [
    {
     "name": "stdout",
     "output_type": "stream",
     "text": [
      "def get_baseline_model() -> implicit.als.AlternatingLeastSquares:\n",
      "    # disable internal multithreading to speed up implicit.als.AlternatingLeastSquares.fit()\n",
      "    environ[\"MKL_NUM_THREADS\"] = \"1\"\n",
      "    environ[\"OPENBLAS_NUM_THREADS\"] = \"1\"\n",
      "\n",
      "    # we iterated through hyper parameters and measured map@10 score on test set\n",
      "    # the parameters below provide 80-th percentile of score\n",
      "    # we intentionally do not use parameters with best test score\n",
      "    model = implicit.als.AlternatingLeastSquares(\n",
      "        factors=20, iterations=7, regularization=100.0\n",
      "    )\n",
      "    return model\n",
      "\n"
     ]
    }
   ],
   "source": [
    "print(inspect.getsource(get_baseline_model))"
   ]
  },
  {
   "cell_type": "code",
   "execution_count": 4,
   "metadata": {
    "pycharm": {
     "is_executing": false
    }
   },
   "outputs": [
    {
     "data": {
      "application/vnd.jupyter.widget-view+json": {
       "model_id": "e979fbbc03e24de0b08aa8e5087bf25e",
       "version_major": 2,
       "version_minor": 0
      },
      "text/plain": [
       "HBox(children=(IntProgress(value=0, max=7), HTML(value='')))"
      ]
     },
     "metadata": {},
     "output_type": "display_data"
    },
    {
     "name": "stdout",
     "output_type": "stream",
     "text": [
      "\n",
      "0.18293975547686622\n"
     ]
    }
   ],
   "source": [
    "def train_model_on_purchases_and_measure_map10_score(unfitted_model: implicit.als.AlternatingLeastSquares) -> float:\n",
    "    data_provider = DataProvider(data_directory=Path('./data'))\n",
    "    item_users = transform_to_item_user_csr_matrix(data_provider.get_purchases_train())\n",
    "    \n",
    "    np.random.seed(42)\n",
    "    unfitted_model.fit(item_users=item_users)\n",
    "    \n",
    "    test_user_ids, test_purchases = get_purchases_by_customer(data_provider.get_purchases_test())\n",
    "    recommendations = get_recommendations(unfitted_model, test_user_ids, item_users)\n",
    "    score = mapk(test_purchases, recommendations, k=10)\n",
    "    return score\n",
    "\n",
    "baseline_score = train_model_on_purchases_and_measure_map10_score(unfitted_model=get_baseline_model())\n",
    "print(baseline_score)"
   ]
  },
  {
   "cell_type": "code",
   "execution_count": null,
   "metadata": {},
   "outputs": [],
   "source": []
  },
  {
   "cell_type": "markdown",
   "metadata": {
    "pycharm": {
     "name": "#%% md\n"
    }
   },
   "source": [
    "# Улучшите модель с помощью данных о поле потребителя"
   ]
  },
  {
   "cell_type": "code",
   "execution_count": 3,
   "metadata": {
    "pycharm": {
     "is_executing": false,
     "name": "#%%\n"
    }
   },
   "outputs": [
    {
     "data": {
      "text/html": [
       "<div>\n",
       "<style scoped>\n",
       "    .dataframe tbody tr th:only-of-type {\n",
       "        vertical-align: middle;\n",
       "    }\n",
       "\n",
       "    .dataframe tbody tr th {\n",
       "        vertical-align: top;\n",
       "    }\n",
       "\n",
       "    .dataframe thead th {\n",
       "        text-align: right;\n",
       "    }\n",
       "</style>\n",
       "<table border=\"1\" class=\"dataframe\">\n",
       "  <thead>\n",
       "    <tr style=\"text-align: right;\">\n",
       "      <th></th>\n",
       "      <th>customer_id</th>\n",
       "      <th>sex</th>\n",
       "    </tr>\n",
       "  </thead>\n",
       "  <tbody>\n",
       "    <tr>\n",
       "      <td>0</td>\n",
       "      <td>14386819</td>\n",
       "      <td>Female</td>\n",
       "    </tr>\n",
       "    <tr>\n",
       "      <td>1</td>\n",
       "      <td>1481405</td>\n",
       "      <td>NaN</td>\n",
       "    </tr>\n",
       "    <tr>\n",
       "      <td>2</td>\n",
       "      <td>16745074</td>\n",
       "      <td>NaN</td>\n",
       "    </tr>\n",
       "    <tr>\n",
       "      <td>3</td>\n",
       "      <td>10325906</td>\n",
       "      <td>NaN</td>\n",
       "    </tr>\n",
       "    <tr>\n",
       "      <td>4</td>\n",
       "      <td>11167384</td>\n",
       "      <td>NaN</td>\n",
       "    </tr>\n",
       "  </tbody>\n",
       "</table>\n",
       "</div>"
      ],
      "text/plain": [
       "   customer_id     sex\n",
       "0     14386819  Female\n",
       "1      1481405     NaN\n",
       "2     16745074     NaN\n",
       "3     10325906     NaN\n",
       "4     11167384     NaN"
      ]
     },
     "metadata": {},
     "output_type": "display_data"
    }
   ],
   "source": [
    "customers = data_provider.get_customers()\n",
    "display(customers.head())"
   ]
  },
  {
   "cell_type": "code",
   "execution_count": 4,
   "metadata": {},
   "outputs": [
    {
     "data": {
      "text/plain": [
       "customer_id        0\n",
       "sex            89089\n",
       "dtype: int64"
      ]
     },
     "execution_count": 4,
     "metadata": {},
     "output_type": "execute_result"
    }
   ],
   "source": [
    "# подсчет количества нулевых значений\n",
    "customers.isnull().sum()"
   ]
  },
  {
   "cell_type": "code",
   "execution_count": 5,
   "metadata": {},
   "outputs": [],
   "source": [
    "# заполнение нулевых значений\n",
    "customers.fillna('unknown', inplace=True)"
   ]
  },
  {
   "cell_type": "code",
   "execution_count": 6,
   "metadata": {},
   "outputs": [],
   "source": [
    "from sklearn import preprocessing"
   ]
  },
  {
   "cell_type": "code",
   "execution_count": 7,
   "metadata": {},
   "outputs": [],
   "source": [
    "# перекодировка значений в числовые и добавление информации о поле в тренировочный и тестовый датафреймы\n",
    "customers['sex'] = preprocessing.LabelEncoder().fit_transform(customers['sex'])\n",
    "purchases_train = purchases_train.join(customers.set_index('customer_id'), on='customer_id')\n",
    "purchases_test = purchases_test.join(customers.set_index('customer_id'), on='customer_id')"
   ]
  },
  {
   "cell_type": "code",
   "execution_count": 8,
   "metadata": {},
   "outputs": [
    {
     "data": {
      "text/html": [
       "<div>\n",
       "<style scoped>\n",
       "    .dataframe tbody tr th:only-of-type {\n",
       "        vertical-align: middle;\n",
       "    }\n",
       "\n",
       "    .dataframe tbody tr th {\n",
       "        vertical-align: top;\n",
       "    }\n",
       "\n",
       "    .dataframe thead th {\n",
       "        text-align: right;\n",
       "    }\n",
       "</style>\n",
       "<table border=\"1\" class=\"dataframe\">\n",
       "  <thead>\n",
       "    <tr style=\"text-align: right;\">\n",
       "      <th></th>\n",
       "      <th>customer_id</th>\n",
       "      <th>product_id</th>\n",
       "      <th>datetime</th>\n",
       "      <th>sex</th>\n",
       "    </tr>\n",
       "  </thead>\n",
       "  <tbody>\n",
       "    <tr>\n",
       "      <td>0</td>\n",
       "      <td>8698595</td>\n",
       "      <td>12530</td>\n",
       "      <td>2004-03-10 22:18:43.497459200</td>\n",
       "      <td>2</td>\n",
       "    </tr>\n",
       "    <tr>\n",
       "      <td>1</td>\n",
       "      <td>13271885</td>\n",
       "      <td>7541</td>\n",
       "      <td>2004-03-06 02:24:43.209763200</td>\n",
       "      <td>0</td>\n",
       "    </tr>\n",
       "    <tr>\n",
       "      <td>2</td>\n",
       "      <td>16852746</td>\n",
       "      <td>13134</td>\n",
       "      <td>2004-03-10 01:03:09.598614400</td>\n",
       "      <td>0</td>\n",
       "    </tr>\n",
       "    <tr>\n",
       "      <td>3</td>\n",
       "      <td>16852746</td>\n",
       "      <td>6572</td>\n",
       "      <td>2004-03-04 16:45:16.522566400</td>\n",
       "      <td>0</td>\n",
       "    </tr>\n",
       "    <tr>\n",
       "      <td>4</td>\n",
       "      <td>14619070</td>\n",
       "      <td>4659</td>\n",
       "      <td>2004-03-12 13:29:35.011481600</td>\n",
       "      <td>0</td>\n",
       "    </tr>\n",
       "  </tbody>\n",
       "</table>\n",
       "</div>"
      ],
      "text/plain": [
       "   customer_id  product_id                       datetime  sex\n",
       "0      8698595       12530  2004-03-10 22:18:43.497459200    2\n",
       "1     13271885        7541  2004-03-06 02:24:43.209763200    0\n",
       "2     16852746       13134  2004-03-10 01:03:09.598614400    0\n",
       "3     16852746        6572  2004-03-04 16:45:16.522566400    0\n",
       "4     14619070        4659  2004-03-12 13:29:35.011481600    0"
      ]
     },
     "execution_count": 8,
     "metadata": {},
     "output_type": "execute_result"
    }
   ],
   "source": [
    "purchases_train.head()"
   ]
  },
  {
   "cell_type": "markdown",
   "metadata": {},
   "source": [
    "Вариант решения, который я вижу - обучить отдельные модели для женщин и мужчин и сравнить их результаты с результатами базового алгоритма на этих же покупателях"
   ]
  },
  {
   "cell_type": "code",
   "execution_count": 34,
   "metadata": {},
   "outputs": [],
   "source": [
    "def compare_train_model_on_purchases_and_measure_map10_score_by_sex(model, unfitted_model, sex) -> float:\n",
    "    item_users = transform_to_item_user_csr_matrix(purchases_train[purchases_train['sex'] == sex])\n",
    "    item_users_base = transform_to_item_user_csr_matrix(data_provider.get_purchases_train())\n",
    "    \n",
    "    np.random.seed(42)\n",
    "    model.fit(item_users=item_users)\n",
    "    unfitted_model.fit(item_users=item_users_base)\n",
    "    \n",
    "    test_user_ids, test_purchases = get_purchases_by_customer(purchases_test[purchases_test['sex'] == sex])\n",
    "    recommendations = get_recommendations(model, test_user_ids, item_users)\n",
    "    recommendations_base = get_recommendations(unfitted_model, test_user_ids, item_users)\n",
    "    score = mapk(test_purchases, recommendations, k=10)\n",
    "    base_score = mapk(test_purchases, recommendations_base, k=10)\n",
    "    return score, base_score"
   ]
  },
  {
   "cell_type": "code",
   "execution_count": 35,
   "metadata": {},
   "outputs": [
    {
     "data": {
      "application/vnd.jupyter.widget-view+json": {
       "model_id": "aaba3ee421514d2eae84f62d5a9345c1",
       "version_major": 2,
       "version_minor": 0
      },
      "text/plain": [
       "HBox(children=(IntProgress(value=0, max=15), HTML(value='')))"
      ]
     },
     "metadata": {},
     "output_type": "display_data"
    },
    {
     "name": "stdout",
     "output_type": "stream",
     "text": [
      "\n"
     ]
    },
    {
     "data": {
      "application/vnd.jupyter.widget-view+json": {
       "model_id": "4a6c6d7994f846488fc3b89627913653",
       "version_major": 2,
       "version_minor": 0
      },
      "text/plain": [
       "HBox(children=(IntProgress(value=0, max=15), HTML(value='')))"
      ]
     },
     "metadata": {},
     "output_type": "display_data"
    },
    {
     "name": "stdout",
     "output_type": "stream",
     "text": [
      "\n",
      "(0.08952842937473722, 0.07391380127270607)\n"
     ]
    }
   ],
   "source": [
    "female_scores = compare_train_model_on_purchases_and_measure_map10_score_by_sex(\n",
    "    implicit.als.AlternatingLeastSquares(), \n",
    "    implicit.als.AlternatingLeastSquares(), 0)\n",
    "print(female_scores)"
   ]
  },
  {
   "cell_type": "code",
   "execution_count": 36,
   "metadata": {},
   "outputs": [
    {
     "data": {
      "application/vnd.jupyter.widget-view+json": {
       "model_id": "1bee03b470db44e39be279c55d4b7847",
       "version_major": 2,
       "version_minor": 0
      },
      "text/plain": [
       "HBox(children=(IntProgress(value=0, max=15), HTML(value='')))"
      ]
     },
     "metadata": {},
     "output_type": "display_data"
    },
    {
     "name": "stdout",
     "output_type": "stream",
     "text": [
      "\n"
     ]
    },
    {
     "data": {
      "application/vnd.jupyter.widget-view+json": {
       "model_id": "d884111a0c214875ab3a0a97255f857b",
       "version_major": 2,
       "version_minor": 0
      },
      "text/plain": [
       "HBox(children=(IntProgress(value=0, max=15), HTML(value='')))"
      ]
     },
     "metadata": {},
     "output_type": "display_data"
    },
    {
     "name": "stdout",
     "output_type": "stream",
     "text": [
      "\n",
      "(0.07152967130349548, 0.05983730164551614)\n"
     ]
    }
   ],
   "source": [
    "male_scores = compare_train_model_on_purchases_and_measure_map10_score_by_sex(\n",
    "    implicit.als.AlternatingLeastSquares(), \n",
    "    implicit.als.AlternatingLeastSquares(), 1)\n",
    "print(male_scores)"
   ]
  },
  {
   "cell_type": "code",
   "execution_count": 37,
   "metadata": {},
   "outputs": [
    {
     "data": {
      "application/vnd.jupyter.widget-view+json": {
       "model_id": "58b48754f2f94636a5c9fac9b05638ac",
       "version_major": 2,
       "version_minor": 0
      },
      "text/plain": [
       "HBox(children=(IntProgress(value=0, max=15), HTML(value='')))"
      ]
     },
     "metadata": {},
     "output_type": "display_data"
    },
    {
     "name": "stdout",
     "output_type": "stream",
     "text": [
      "\n"
     ]
    },
    {
     "data": {
      "application/vnd.jupyter.widget-view+json": {
       "model_id": "5f1d0a21d6e44856bb2208e229dacd79",
       "version_major": 2,
       "version_minor": 0
      },
      "text/plain": [
       "HBox(children=(IntProgress(value=0, max=15), HTML(value='')))"
      ]
     },
     "metadata": {},
     "output_type": "display_data"
    },
    {
     "name": "stdout",
     "output_type": "stream",
     "text": [
      "\n",
      "(0.022697501438435172, 0.10391554414368606)\n"
     ]
    }
   ],
   "source": [
    "unknown_scores = compare_train_model_on_purchases_and_measure_map10_score_by_sex(\n",
    "    implicit.als.AlternatingLeastSquares(), \n",
    "    implicit.als.AlternatingLeastSquares(), 2)\n",
    "print(unknown_scores)"
   ]
  },
  {
   "cell_type": "code",
   "execution_count": null,
   "metadata": {},
   "outputs": [],
   "source": []
  },
  {
   "cell_type": "markdown",
   "metadata": {},
   "source": [
    "Результаты ожидаемые: алгоритмы, обучающиеся на покупателях одного пола, лучше справляются с задачей, чем базовый алгоритм. А вот для покупателей, чей пол неизвестен, лучше работает базовый, потому что оба алгоритма не имеют никакой информации о поле, однако базовый алгоритм обучался на большей выборке. Поэтому для покупателей, пол которых известен, я бы использовал модели по полу, а для остальных - общую модель по всей выборке"
   ]
  },
  {
   "cell_type": "code",
   "execution_count": null,
   "metadata": {},
   "outputs": [],
   "source": []
  },
  {
   "cell_type": "code",
   "execution_count": null,
   "metadata": {},
   "outputs": [],
   "source": []
  },
  {
   "cell_type": "code",
   "execution_count": 80,
   "metadata": {},
   "outputs": [],
   "source": [
    "import itertools"
   ]
  },
  {
   "cell_type": "code",
   "execution_count": 84,
   "metadata": {},
   "outputs": [],
   "source": [
    "parametrs = {'factors' : [5, 10],\n",
    "            'regularization': [0.01, 0.001]}"
   ]
  },
  {
   "cell_type": "code",
   "execution_count": 114,
   "metadata": {},
   "outputs": [],
   "source": [
    "# Функция для подбора параметров\n",
    "def grid_search(model, parametrs, train, test):\n",
    "    item_users = transform_to_item_user_csr_matrix(purchases_train)\n",
    "    df = pd.DataFrame(columns=['score', 'parameters'])\n",
    "    n=0\n",
    "    np.random.seed(42)\n",
    "    \n",
    "    for v in itertools.product(*values):\n",
    "        params = dict(zip(keys, v))\n",
    "        \n",
    "        model=implicit.als.AlternatingLeastSquares(**params)\n",
    "        model.fit(item_users=item_users)        \n",
    "        item_users = transform_to_item_user_csr_matrix(train)\n",
    "   \n",
    "        test_user_ids, test_purchases = get_purchases_by_customer(test)\n",
    "        recommendations = get_recommendations(model, test_user_ids, item_users)\n",
    "        score = mapk(test_purchases, recommendations, k=10)\n",
    "        \n",
    "        df.loc[n] = [score, params]\n",
    "        n += 1\n",
    "        \n",
    "    return df.sort_values(by=['score'],ascending=False)\n",
    "    "
   ]
  },
  {
   "cell_type": "code",
   "execution_count": 115,
   "metadata": {},
   "outputs": [
    {
     "data": {
      "application/vnd.jupyter.widget-view+json": {
       "model_id": "80185b20f4664bf999ba7bbf91f3e6a9",
       "version_major": 2,
       "version_minor": 0
      },
      "text/plain": [
       "HBox(children=(IntProgress(value=0, max=15), HTML(value='')))"
      ]
     },
     "metadata": {},
     "output_type": "display_data"
    },
    {
     "name": "stdout",
     "output_type": "stream",
     "text": [
      "\n"
     ]
    },
    {
     "data": {
      "application/vnd.jupyter.widget-view+json": {
       "model_id": "684fa03406d0446bad466e30ca11e460",
       "version_major": 2,
       "version_minor": 0
      },
      "text/plain": [
       "HBox(children=(IntProgress(value=0, max=15), HTML(value='')))"
      ]
     },
     "metadata": {},
     "output_type": "display_data"
    },
    {
     "name": "stdout",
     "output_type": "stream",
     "text": [
      "\n"
     ]
    },
    {
     "data": {
      "application/vnd.jupyter.widget-view+json": {
       "model_id": "eacdbfd969664028923ae47242ed5bd4",
       "version_major": 2,
       "version_minor": 0
      },
      "text/plain": [
       "HBox(children=(IntProgress(value=0, max=15), HTML(value='')))"
      ]
     },
     "metadata": {},
     "output_type": "display_data"
    },
    {
     "name": "stdout",
     "output_type": "stream",
     "text": [
      "\n"
     ]
    },
    {
     "data": {
      "application/vnd.jupyter.widget-view+json": {
       "model_id": "40cd95bf762c4986b3e1923afeb6a4b3",
       "version_major": 2,
       "version_minor": 0
      },
      "text/plain": [
       "HBox(children=(IntProgress(value=0, max=15), HTML(value='')))"
      ]
     },
     "metadata": {},
     "output_type": "display_data"
    },
    {
     "name": "stdout",
     "output_type": "stream",
     "text": [
      "\n"
     ]
    },
    {
     "data": {
      "text/html": [
       "<div>\n",
       "<style scoped>\n",
       "    .dataframe tbody tr th:only-of-type {\n",
       "        vertical-align: middle;\n",
       "    }\n",
       "\n",
       "    .dataframe tbody tr th {\n",
       "        vertical-align: top;\n",
       "    }\n",
       "\n",
       "    .dataframe thead th {\n",
       "        text-align: right;\n",
       "    }\n",
       "</style>\n",
       "<table border=\"1\" class=\"dataframe\">\n",
       "  <thead>\n",
       "    <tr style=\"text-align: right;\">\n",
       "      <th></th>\n",
       "      <th>score</th>\n",
       "      <th>parameters</th>\n",
       "    </tr>\n",
       "  </thead>\n",
       "  <tbody>\n",
       "    <tr>\n",
       "      <td>3</td>\n",
       "      <td>0.143883</td>\n",
       "      <td>{'factors': 10, 'regularization': 0.001}</td>\n",
       "    </tr>\n",
       "    <tr>\n",
       "      <td>2</td>\n",
       "      <td>0.143865</td>\n",
       "      <td>{'factors': 10, 'regularization': 0.01}</td>\n",
       "    </tr>\n",
       "    <tr>\n",
       "      <td>0</td>\n",
       "      <td>0.139347</td>\n",
       "      <td>{'factors': 5, 'regularization': 0.01}</td>\n",
       "    </tr>\n",
       "    <tr>\n",
       "      <td>1</td>\n",
       "      <td>0.139288</td>\n",
       "      <td>{'factors': 5, 'regularization': 0.001}</td>\n",
       "    </tr>\n",
       "  </tbody>\n",
       "</table>\n",
       "</div>"
      ],
      "text/plain": [
       "      score                                parameters\n",
       "3  0.143883  {'factors': 10, 'regularization': 0.001}\n",
       "2  0.143865   {'factors': 10, 'regularization': 0.01}\n",
       "0  0.139347    {'factors': 5, 'regularization': 0.01}\n",
       "1  0.139288   {'factors': 5, 'regularization': 0.001}"
      ]
     },
     "execution_count": 115,
     "metadata": {},
     "output_type": "execute_result"
    }
   ],
   "source": [
    "grid_search(implicit.als.AlternatingLeastSquares, parametrs, purchases_train, purchases_test)"
   ]
  },
  {
   "cell_type": "markdown",
   "metadata": {},
   "source": [
    "Реализовал функцию для подбора параметров. В дальнейшем ее также можно легко адаптировать под алгоритмы для разных полов. Для демонстрации взял низкие значения параметра 'factors' для быстрой проверки работы функции\n"
   ]
  }
 ],
 "metadata": {
  "kernelspec": {
   "display_name": "Python 3",
   "language": "python",
   "name": "python3"
  },
  "language_info": {
   "codemirror_mode": {
    "name": "ipython",
    "version": 3
   },
   "file_extension": ".py",
   "mimetype": "text/x-python",
   "name": "python",
   "nbconvert_exporter": "python",
   "pygments_lexer": "ipython3",
   "version": "3.7.4"
  },
  "pycharm": {
   "stem_cell": {
    "cell_type": "raw",
    "metadata": {
     "collapsed": false
    },
    "source": []
   }
  }
 },
 "nbformat": 4,
 "nbformat_minor": 2
}
